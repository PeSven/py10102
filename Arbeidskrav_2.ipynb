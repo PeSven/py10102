{
 "cells": [
  {
   "cell_type": "markdown",
   "id": "d296e5b8-94a3-4f5f-8605-e7e7c07431a7",
   "metadata": {},
   "source": [
    "# Oppg 1)  Du skal her lage et program som skal starter medalder = int(input('Hvilket år er du født? ') ) \r",
    "## \r\n",
    "Programmet skal så regne ut hvor gammel personen blir nå i løpet av år 2024 og skri svaret til skjerm med passende tekst. vt. "
   ]
  },
  {
   "cell_type": "code",
   "execution_count": 156,
   "id": "97f2ac12-778d-4902-8cb5-d0fc17ae828a",
   "metadata": {},
   "outputs": [
    {
     "name": "stdin",
     "output_type": "stream",
     "text": [
      "Hvilket år er du født? 1966\n"
     ]
    },
    {
     "name": "stdout",
     "output_type": "stream",
     "text": [
      "I år 2024 er du 58 år gammel\n"
     ]
    }
   ],
   "source": [
    "alder = int(input(\"Hvilket år er du født?\"))\n",
    "\n",
    "print(\"I år 2024 er du\", 2024 - alder, \"år gammel\")"
   ]
  },
  {
   "cell_type": "markdown",
   "id": "5fe30b5e-2e0c-4c50-96ed-60d0e3b7ccfc",
   "metadata": {},
   "source": [
    "# Oppg 2)  Det skal arrangeres en klassefest og man antar at hver elev spiser 1/4 pizza. Lag et program som tar inn antall elever fra konsollen ved antall_elever = int(input('Skriv inn antall elever:' )) \r",
    "##  \r\n",
    "Programmet skal så regne ut hvor ma helenge pizzaer som skal handles inn til festen og skr svaret til skjerm. vø\r\n",
    "5).   "
   ]
  },
  {
   "cell_type": "code",
   "execution_count": 158,
   "id": "032eae11-730f-49e7-bace-43761532dffd",
   "metadata": {},
   "outputs": [
    {
     "name": "stdin",
     "output_type": "stream",
     "text": [
      "Skriv inn antall elever: 31\n"
     ]
    },
    {
     "name": "stdout",
     "output_type": "stream",
     "text": [
      "Antall pizzaer som skal kjøpes er 7 stk.\n"
     ]
    }
   ],
   "source": [
    "antall_elever = int(input(\"Skriv inn antall elever:\" )) \n",
    "result = int(antall_elever*0.25)\n",
    "print(\"Antall pizzaer som skal kjøpes er\", result, \"stk.\")"
   ]
  },
  {
   "cell_type": "markdown",
   "id": "4e9b335b-d758-4426-b27f-b72211ea8f0c",
   "metadata": {},
   "source": [
    "# Oppg 3)  \n",
    "# Lag et program med en funksjon som regner om fra grader til radianer. \r",
    "### \n",
    "Programmet skal starte med import numpy as np: np "
   ]
  },
  {
   "cell_type": "code",
   "execution_count": 160,
   "id": "a76ab62e-2df5-44c7-ae1f-bb195b4effa9",
   "metadata": {},
   "outputs": [
    {
     "name": "stdin",
     "output_type": "stream",
     "text": [
      "Skriv inn gradtallet: 180\n"
     ]
    },
    {
     "name": "stdout",
     "output_type": "stream",
     "text": [
      "180.0 grader = 3.141592653589793 radianer\n"
     ]
    }
   ],
   "source": [
    "import numpy as np\n",
    "\n",
    "v_grad = float(input(\"Skriv inn gradtallet:\" )) \n",
    "v_rad = v_grad*np.pi/180 \n",
    "\n",
    "print(v_grad, \"grader =\", v_rad, \"radianer\")\n"
   ]
  },
  {
   "cell_type": "markdown",
   "id": "75663296-564e-4a44-b7e2-a49efe0a02aa",
   "metadata": {},
   "source": [
    "# Oppg 4a, 4b, og 4c)\n",
    "## Opprett en dictionary. Dictionaryen har ulike land som nøkkel (Keys) og gir info om hovedstaden i landet og antall innbyggere i mill. i hovedstaden.   "
   ]
  },
  {
   "cell_type": "code",
   "execution_count": 162,
   "id": "6099e902-4648-4be7-ad28-fea3327c0924",
   "metadata": {},
   "outputs": [
    {
     "name": "stdin",
     "output_type": "stream",
     "text": [
      "Skriv inn et land:  England\n"
     ]
    },
    {
     "name": "stdout",
     "output_type": "stream",
     "text": [
      "London er hovedstaden i England og det er 8.982 mill. innbyggere i London.\n"
     ]
    },
    {
     "name": "stdin",
     "output_type": "stream",
     "text": [
      "Skriv inn navnet på det nye landet:  Sverige\n",
      "Skriv inn hovedstaden i Sverige:  Stockholm\n",
      "Skriv inn antall innbyggere (i millioner) i Sverige:  1.4\n"
     ]
    },
    {
     "name": "stdout",
     "output_type": "stream",
     "text": [
      "Sverige er lagt til i dictionaryen.\n",
      "Oppdatert dictionary:\n",
      "Norge: Hovedstad - Oslo, Innbyggere - 0.634 millioner\n",
      "England: Hovedstad - London, Innbyggere - 8.982 millioner\n",
      "Frankrike: Hovedstad - Paris, Innbyggere - 2.161 millioner\n",
      "Italia: Hovedstad - Roma, Innbyggere - 2.873 millioner\n",
      "Sverige: Hovedstad - Stockholm, Innbyggere - 1.4 millioner\n"
     ]
    }
   ],
   "source": [
    "data = {\n",
    "       \"Norge\": [\"Oslo\", 0.634],\n",
    "       \"England\": [\"London\", 8.982],\n",
    "       \"Frankrike\": [\"Paris\", 2.161],\n",
    "       \"Italia\": [\"Roma\", 2.873]\n",
    "       }\n",
    "# Funksjon for å hente og skrive ut informasjon om et land\n",
    "def skriv_ut_info(land):\n",
    "    if land in data:\n",
    "        hovedstad, innbyggere = data[land]\n",
    "        print(f\"{hovedstad} er hovedstaden i {land} og det er {innbyggere} mill. innbyggere i {hovedstad}.\")\n",
    "    else:\n",
    "        print(f\"Informasjon om {land} er ikke tilgjengelig i dictionaryen.\")\n",
    "\n",
    "# Be brukeren om å skrive inn et land\n",
    "bruker_input = input(\"Skriv inn et land: \")\n",
    "skriv_ut_info(bruker_input)\n",
    "\n",
    "# Funksjon for å legge til et nytt land\n",
    "def legg_til_land(data):\n",
    "    nytt_land = input(\"Skriv inn navnet på det nye landet: \")\n",
    "    if nytt_land in data:\n",
    "        print(f\"{nytt_land} finnes allerede i dictionaryen.\")\n",
    "    else:\n",
    "        hovedstad = input(f\"Skriv inn hovedstaden i {nytt_land}: \")\n",
    "        innbyggere = float(input(f\"Skriv inn antall innbyggere (i millioner) i {nytt_land}: \"))\n",
    "        data[nytt_land] = [hovedstad, innbyggere]\n",
    "        print(f\"{nytt_land} er lagt til i dictionaryen.\")\n",
    "\n",
    "# Kjør funksjonen for å legge til et nytt land\n",
    "legg_til_land(data)\n",
    "\n",
    "# Skriv ut den oppdaterte dictionaryen\n",
    "print(\"Oppdatert dictionary:\")\n",
    "for land, info in data.items():\n",
    "    print(f\"{land}: Hovedstad - {info[0]}, Innbyggere - {info[1]} millioner\")\n"
   ]
  },
  {
   "cell_type": "markdown",
   "id": "c9a9532b-093d-4fe6-90cd-b6e33de81111",
   "metadata": {},
   "source": [
    "# Oppg. 5 \n",
    "## Lag et program med en funksjon som tar a og b som inn-argumenter og som så \n",
    "regner ut arealet og «ytre» omkrets til en figur satt sammen a  e  rettvinklet trekant og e \r\n",
    "halvsirkel, se figuren under.  Med «ytre» omkrets menes samlet lengde av de sorte streken \r\n",
    "Funksjonen skal returnere arealet og «ytre» omkrets, som så skrives til skjerm med passe e \r\n",
    "tekst.  "
   ]
  },
  {
   "cell_type": "code",
   "execution_count": 164,
   "id": "0a7f8945-fcbb-41e3-a8e6-0f3d0874f241",
   "metadata": {},
   "outputs": [
    {
     "name": "stdin",
     "output_type": "stream",
     "text": [
      "Skriv inn lengden på den ene kateten (a):  3\n",
      "Skriv inn lengden på den andre kateten (b):  5\n"
     ]
    },
    {
     "name": "stdout",
     "output_type": "stream",
     "text": [
      "Den ytre omkretsen av figuren med katetene 3.0 og 5.0 er 15.54 meter\n"
     ]
    }
   ],
   "source": [
    "import math\n",
    "\n",
    "def beregn_omkrets(a, b):\n",
    "    # Beregn hypotenusen til trekanten\n",
    "    hypotenus = math.sqrt(a**2 + b**2)\n",
    "    \n",
    "    # Beregn radiusen til halvsirkelen\n",
    "    radius = a / 2\n",
    "    \n",
    "    # Beregn omkretsen av halvsirkelen (halvparten av sirkelens omkrets)\n",
    "    omkrets_halvsirkel = math.pi * radius\n",
    "    \n",
    "    # Beregn den ytre omkretsen (summen av trekantens 2 sider og halvsirkelens omkrets)\n",
    "    ytre_omkrets = b + hypotenus + omkrets_halvsirkel\n",
    "    \n",
    "    return ytre_omkrets\n",
    "\n",
    "# Spør brukeren om lengdene på de to katetene\n",
    "a = float(input(\"Skriv inn lengden på den ene kateten (a): \"))\n",
    "b = float(input(\"Skriv inn lengden på den andre kateten (b): \"))\n",
    "\n",
    "# Beregn omkretsen ved hjelp av funksjonen\n",
    "omkrets = beregn_omkrets(a, b)\n",
    "\n",
    "# Skriver ut resultatet\n",
    "print(f\"Den ytre omkretsen av figuren med katetene {a} og {b} er {omkrets:.2f} meter\")"
   ]
  },
  {
   "cell_type": "code",
   "execution_count": 165,
   "id": "cb530de1-0b9a-4ff3-b4f4-6f405f6af877",
   "metadata": {},
   "outputs": [
    {
     "name": "stdin",
     "output_type": "stream",
     "text": [
      "Skriv inn lengden på den ene kateten (a):  3\n",
      "Skriv inn lengden på den andre kateten (b):  5\n"
     ]
    },
    {
     "name": "stdout",
     "output_type": "stream",
     "text": [
      "Arealet av figuren er: 17.32 kvadratmeter\n"
     ]
    }
   ],
   "source": [
    "import math\n",
    "\n",
    "def beregn_areal(a, b):\n",
    "    # Beregn arealet av den rettvinklede trekanten\n",
    "    areal_trekant = 0.5 * a * b\n",
    "    \n",
    "    # Beregn radiusen til halvsirkelen\n",
    "    radius = b / 2\n",
    "    \n",
    "    # Beregn arealet av halvsirkelen\n",
    "    areal_halvsirkel = 0.5 * math.pi * radius**2\n",
    "    \n",
    "    # Totalt areal\n",
    "    totalt_areal = areal_trekant + areal_halvsirkel\n",
    "    \n",
    "    return totalt_areal\n",
    "\n",
    "# Hovedprogram\n",
    "a = float(input(\"Skriv inn lengden på den ene kateten (a): \"))\n",
    "b = float(input(\"Skriv inn lengden på den andre kateten (b): \"))\n",
    "\n",
    "areal = beregn_areal(a, b)\n",
    "\n",
    "print(f\"Arealet av figuren er: {areal:.2f} kvadratmeter\")"
   ]
  },
  {
   "cell_type": "markdown",
   "id": "e9020887-619b-4aff-96cc-25d1367c0d25",
   "metadata": {},
   "source": [
    "# Oppg 6\n",
    "## Skriv en kode som plotter funksjonen 𝑓(𝑥) = −𝑥2 − 5, for x på intervallet [-10,10]"
   ]
  },
  {
   "cell_type": "code",
   "execution_count": 167,
   "id": "38eb94df-bcd3-418a-86c5-5a3902516177",
   "metadata": {},
   "outputs": [
    {
     "data": {
      "image/png": "[encoded data removed]",
      "text/plain": [
       "<Figure size 640x480 with 1 Axes>"
      ]
     },
     "metadata": {},
     "output_type": "display_data"
    }
   ],
   "source": [
    "import numpy as np\n",
    "import matplotlib.pyplot as plt\n",
    "\n",
    "# Definerer funksjonen f(x)\n",
    "def f(x):\n",
    "    return -x**2 - 5\n",
    "\n",
    "# Genererer 200 punkter jevnt fordelt på intervallet [-10, 10]\n",
    "x = np.linspace(-10, 10, 200)\n",
    "\n",
    "# Beregner funksjonsverdiene for hvert punkt i x\n",
    "y = f(x)\n",
    "\n",
    "# Plotter funksjonen\n",
    "plt.plot(x, y, label='f(x) = -x^2 - 5')\n",
    "plt.xlabel('x')\n",
    "plt.ylabel('f(x)')\n",
    "plt.title('Plot av funksjonen f(x) = -x^2 - 5')\n",
    "plt.legend()\n",
    "plt.grid(True)\n",
    "plt.show()"
   ]
  }
 ],
 "metadata": {
  "kernelspec": {
   "display_name": "Python 3 (ipykernel)",
   "language": "python",
   "name": "python3"
  },
  "language_info": {
   "codemirror_mode": {
    "name": "ipython",
    "version": 3
   },
   "file_extension": ".py",
   "mimetype": "text/x-python",
   "name": "python",
   "nbconvert_exporter": "python",
   "pygments_lexer": "ipython3",
   "version": "3.12.4"
  }
 },
 "nbformat": 4,
 "nbformat_minor": 5
}
